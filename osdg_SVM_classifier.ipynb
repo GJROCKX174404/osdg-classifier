{
  "nbformat": 4,
  "nbformat_minor": 5,
  "metadata": {
    "accelerator": "GPU",
    "colab": {
      "name": "osdg-SVM-classifier.ipynb",
      "provenance": [],
      "collapsed_sections": []
    },
    "kernelspec": {
      "display_name": "Python 3 (ipykernel)",
      "language": "python",
      "name": "python3"
    },
    "language_info": {
      "codemirror_mode": {
        "name": "ipython",
        "version": 3
      },
      "file_extension": ".py",
      "mimetype": "text/x-python",
      "name": "python",
      "nbconvert_exporter": "python",
      "pygments_lexer": "ipython3",
      "version": "3.9.4"
    }
  },
  "cells": [
    {
      "cell_type": "markdown",
      "metadata": {
        "id": "a410c82c"
      },
      "source": [
        "# OSDG Classifier using scikit-learn\n",
        "\n",
        "[OSDG Community Dataset](https://zenodo.org/record/5550238#.YYL53i8RrRY).\n",
        "***\n",
        "\n",
        "## Table of Contents\n",
        "\n",
        "- [I. Data Preparation](#I.-Data-Preparation)\n",
        "\n",
        "- [II. SVM Classifier for Sustainable Development Goals]\n",
        "\n",
        "![17 SDGs](https://global.unitednations.entermediadb.net/assets/mediadb/services/module/asset/downloads/preset/assets/2015/09/22525/image1170x530cropped.jpg)"
      ],
      "id": "a410c82c"
    },
    {
      "cell_type": "code",
      "metadata": {
        "colab": {
          "base_uri": "https://localhost:8080/"
        },
        "id": "bk4smM2M3AuG",
        "outputId": "5d01d679-5e32-4d9e-9b5f-b2cde1872696"
      },
      "source": [
        "from google.colab import drive\n",
        "drive.mount('/content/drive')"
      ],
      "id": "bk4smM2M3AuG",
      "execution_count": 1,
      "outputs": [
        {
          "output_type": "stream",
          "name": "stdout",
          "text": [
            "Mounted at /content/drive\n"
          ]
        }
      ]
    },
    {
      "cell_type": "markdown",
      "metadata": {
        "id": "01f07c4b"
      },
      "source": [
        "### Importing  Libraries"
      ],
      "id": "01f07c4b"
    },
    {
      "cell_type": "code",
      "metadata": {
        "colab": {
          "base_uri": "https://localhost:8080/"
        },
        "id": "3d9ecef4",
        "outputId": "54810276-e5b8-43be-c9b5-72b5730e68a8"
      },
      "source": [
        "# standard library\n",
        "from typing import List\n",
        "\n",
        "# data wrangling\n",
        "import numpy as np\n",
        "import pandas as pd\n",
        "\n",
        "# visualisation\n",
        "import plotly.express as px\n",
        "import plotly.io as pio\n",
        "\n",
        "# nlp\n",
        "import spacy\n",
        "\n",
        "#deployment application\n",
        "\n",
        "\n",
        "# data modelling\n",
        "from sklearn.model_selection import train_test_split\n",
        "from sklearn.feature_extraction.text import TfidfVectorizer\n",
        "from sklearn.linear_model import LogisticRegression\n",
        "from sklearn.pipeline import Pipeline\n",
        "from sklearn.metrics import confusion_matrix, classification_report, accuracy_score, top_k_accuracy_score, f1_score\n",
        "\n",
        "# utils\n",
        "from tqdm import tqdm\n",
        "from sklearn import svm\n",
        "\n",
        "# local packages\n",
        "from helpers import plot_confusion_matrix, fix_sdg_name\n",
        "\n",
        "print('Loaded!')"
      ],
      "id": "3d9ecef4",
      "execution_count": 16,
      "outputs": [
        {
          "output_type": "stream",
          "name": "stdout",
          "text": [
            "Loaded!\n"
          ]
        }
      ]
    },
    {
      "cell_type": "code",
      "metadata": {
        "colab": {
          "base_uri": "https://localhost:8080/"
        },
        "id": "7b918fd4",
        "outputId": "b27b1995-08bd-4cd3-dd23-9147028a54d7"
      },
      "source": [
        "# other settings\n",
        "pio.templates.default = 'plotly_white'\n",
        "\n",
        "spacy.prefer_gpu()\n",
        "nlp = spacy.load('en_core_web_sm', disable = ['ner'])\n",
        "print('SpaCy version:', spacy.__version__)"
      ],
      "id": "7b918fd4",
      "execution_count": 3,
      "outputs": [
        {
          "output_type": "stream",
          "name": "stdout",
          "text": [
            "SpaCy version: 2.2.4\n"
          ]
        }
      ]
    },
    {
      "cell_type": "markdown",
      "metadata": {
        "id": "eb58b62e"
      },
      "source": [
        "# I. Data Preparation\n",
        "\n",
        "_In this section, we will explore the data and select texts for training._"
      ],
      "id": "eb58b62e"
    },
    {
      "cell_type": "markdown",
      "metadata": {
        "id": "n2Hg9cUZdyTL"
      },
      "source": [
        "## Loading Dataset"
      ],
      "id": "n2Hg9cUZdyTL"
    },
    {
      "cell_type": "code",
      "metadata": {
        "colab": {
          "base_uri": "https://localhost:8080/",
          "height": 310
        },
        "id": "04f7ba09",
        "outputId": "85497bfe-c391-4bca-d37e-b9cd42e59f48"
      },
      "source": [
        "df_osdg = pd.read_csv('https://zenodo.org/record/5550238/files/osdg-community-dataset-v21-09-30.csv?download=1')\n",
        "print('Shape:', df_osdg.shape)\n",
        "display(df_osdg.head())"
      ],
      "id": "04f7ba09",
      "execution_count": 4,
      "outputs": [
        {
          "output_type": "stream",
          "name": "stdout",
          "text": [
            "Shape: (32121, 7)\n"
          ]
        },
        {
          "output_type": "display_data",
          "data": {
            "text/html": [
              "<div>\n",
              "<style scoped>\n",
              "    .dataframe tbody tr th:only-of-type {\n",
              "        vertical-align: middle;\n",
              "    }\n",
              "\n",
              "    .dataframe tbody tr th {\n",
              "        vertical-align: top;\n",
              "    }\n",
              "\n",
              "    .dataframe thead th {\n",
              "        text-align: right;\n",
              "    }\n",
              "</style>\n",
              "<table border=\"1\" class=\"dataframe\">\n",
              "  <thead>\n",
              "    <tr style=\"text-align: right;\">\n",
              "      <th></th>\n",
              "      <th>doi</th>\n",
              "      <th>text_id</th>\n",
              "      <th>text</th>\n",
              "      <th>sdg</th>\n",
              "      <th>labels_negative</th>\n",
              "      <th>labels_positive</th>\n",
              "      <th>agreement</th>\n",
              "    </tr>\n",
              "  </thead>\n",
              "  <tbody>\n",
              "    <tr>\n",
              "      <th>0</th>\n",
              "      <td>10.6027/9789289342698-7-en</td>\n",
              "      <td>00021941702cd84171ff33962197ca1f</td>\n",
              "      <td>From a gender perspective, Paulgaard points ou...</td>\n",
              "      <td>5</td>\n",
              "      <td>1</td>\n",
              "      <td>7</td>\n",
              "      <td>0.750000</td>\n",
              "    </tr>\n",
              "    <tr>\n",
              "      <th>1</th>\n",
              "      <td>10.18356/eca72908-en</td>\n",
              "      <td>00028349a7f9b2485ff344ae44ccfd6b</td>\n",
              "      <td>Labour legislation regulates maximum working h...</td>\n",
              "      <td>11</td>\n",
              "      <td>2</td>\n",
              "      <td>1</td>\n",
              "      <td>0.333333</td>\n",
              "    </tr>\n",
              "    <tr>\n",
              "      <th>2</th>\n",
              "      <td>10.1787/9789264289062-4-en</td>\n",
              "      <td>0004eb64f96e1620cd852603d9cbe4d4</td>\n",
              "      <td>The average figure also masks large difference...</td>\n",
              "      <td>3</td>\n",
              "      <td>1</td>\n",
              "      <td>6</td>\n",
              "      <td>0.714286</td>\n",
              "    </tr>\n",
              "    <tr>\n",
              "      <th>3</th>\n",
              "      <td>10.1787/5k9b7bn5qzvd-en</td>\n",
              "      <td>0006a887475ccfa5a7f5f51d4ac83d02</td>\n",
              "      <td>The extent to which they are akin to corruptio...</td>\n",
              "      <td>3</td>\n",
              "      <td>1</td>\n",
              "      <td>2</td>\n",
              "      <td>0.333333</td>\n",
              "    </tr>\n",
              "    <tr>\n",
              "      <th>4</th>\n",
              "      <td>10.1787/9789264258211-6-en</td>\n",
              "      <td>0006d6e7593776abbdf4a6f985ea6d95</td>\n",
              "      <td>A region reporting a higher rate will not earn...</td>\n",
              "      <td>3</td>\n",
              "      <td>2</td>\n",
              "      <td>2</td>\n",
              "      <td>0.000000</td>\n",
              "    </tr>\n",
              "  </tbody>\n",
              "</table>\n",
              "</div>"
            ],
            "text/plain": [
              "                          doi  ... agreement\n",
              "0  10.6027/9789289342698-7-en  ...  0.750000\n",
              "1        10.18356/eca72908-en  ...  0.333333\n",
              "2  10.1787/9789264289062-4-en  ...  0.714286\n",
              "3     10.1787/5k9b7bn5qzvd-en  ...  0.333333\n",
              "4  10.1787/9789264258211-6-en  ...  0.000000\n",
              "\n",
              "[5 rows x 7 columns]"
            ]
          },
          "metadata": {}
        }
      ]
    },
    {
      "cell_type": "markdown",
      "metadata": {
        "id": "a3e85299"
      },
      "source": [
        "The agreement is calculated using the following formula:\n",
        "\n",
        "$$\n",
        "agreement = \\frac{|labels_{pos} - labels_{neg}|}{labels_{pos} + labels_{neg}}\n",
        "$$\n",
        "\n",
        "The resulting values range between 0 (equally split votes) and 1 (all votes are either positive or negative)."
      ],
      "id": "a3e85299"
    },
    {
      "cell_type": "markdown",
      "metadata": {
        "id": "qHLEr2FAeu8K"
      },
      "source": [
        "## Cummative probability of Agreement scores"
      ],
      "id": "qHLEr2FAeu8K"
    },
    {
      "cell_type": "code",
      "metadata": {
        "colab": {
          "base_uri": "https://localhost:8080/",
          "height": 223
        },
        "id": "18d5b11e",
        "outputId": "ef491e98-b38c-4701-c6c0-178fefe70729"
      },
      "source": [
        "# calculating cumulative probability over agreement scores\n",
        "df_lambda = df_osdg['agreement'].value_counts(normalize = True).sort_index().cumsum().to_frame(name = 'p_sum')\n",
        "df_lambda.reset_index(inplace = True)\n",
        "df_lambda.rename({'index': 'agreement'}, axis = 1, inplace = True)\n",
        "\n",
        "print('Shape:', df_lambda.shape)\n",
        "display(df_lambda.head())"
      ],
      "id": "18d5b11e",
      "execution_count": 5,
      "outputs": [
        {
          "output_type": "stream",
          "name": "stdout",
          "text": [
            "Shape: (36, 2)\n"
          ]
        },
        {
          "output_type": "display_data",
          "data": {
            "text/html": [
              "<div>\n",
              "<style scoped>\n",
              "    .dataframe tbody tr th:only-of-type {\n",
              "        vertical-align: middle;\n",
              "    }\n",
              "\n",
              "    .dataframe tbody tr th {\n",
              "        vertical-align: top;\n",
              "    }\n",
              "\n",
              "    .dataframe thead th {\n",
              "        text-align: right;\n",
              "    }\n",
              "</style>\n",
              "<table border=\"1\" class=\"dataframe\">\n",
              "  <thead>\n",
              "    <tr style=\"text-align: right;\">\n",
              "      <th></th>\n",
              "      <th>agreement</th>\n",
              "      <th>p_sum</th>\n",
              "    </tr>\n",
              "  </thead>\n",
              "  <tbody>\n",
              "    <tr>\n",
              "      <th>0</th>\n",
              "      <td>0.000000</td>\n",
              "      <td>0.033716</td>\n",
              "    </tr>\n",
              "    <tr>\n",
              "      <th>1</th>\n",
              "      <td>0.062432</td>\n",
              "      <td>0.033747</td>\n",
              "    </tr>\n",
              "    <tr>\n",
              "      <th>2</th>\n",
              "      <td>0.067982</td>\n",
              "      <td>0.033779</td>\n",
              "    </tr>\n",
              "    <tr>\n",
              "      <th>3</th>\n",
              "      <td>0.090909</td>\n",
              "      <td>0.033872</td>\n",
              "    </tr>\n",
              "    <tr>\n",
              "      <th>4</th>\n",
              "      <td>0.111111</td>\n",
              "      <td>0.050185</td>\n",
              "    </tr>\n",
              "  </tbody>\n",
              "</table>\n",
              "</div>"
            ],
            "text/plain": [
              "   agreement     p_sum\n",
              "0   0.000000  0.033716\n",
              "1   0.062432  0.033747\n",
              "2   0.067982  0.033779\n",
              "3   0.090909  0.033872\n",
              "4   0.111111  0.050185"
            ]
          },
          "metadata": {}
        }
      ]
    },
    {
      "cell_type": "markdown",
      "metadata": {
        "id": "dLZ462xidIhm"
      },
      "source": [
        "#Filter Dataset Based on Agreement scores\n",
        "##The orginal dataset is filtered by agreement scores.A threshold of 0.6 or more is considered."
      ],
      "id": "dLZ462xidIhm"
    },
    {
      "cell_type": "code",
      "metadata": {
        "colab": {
          "base_uri": "https://localhost:8080/",
          "height": 327
        },
        "id": "10c2a1e0",
        "outputId": "a1d1ddfd-7eba-4cc7-f4bc-24d0929ac1fc"
      },
      "source": [
        "# keeping only the texts whose suggested sdg labels is accepted and the agreement score is at least .6\n",
        "print('Shape before:', df_osdg.shape)\n",
        "df_osdg = df_osdg.query('agreement >= .6 and labels_positive > labels_negative').copy()\n",
        "print('Shape after :', df_osdg.shape)\n",
        "display(df_osdg.head())"
      ],
      "id": "10c2a1e0",
      "execution_count": 6,
      "outputs": [
        {
          "output_type": "stream",
          "name": "stdout",
          "text": [
            "Shape before: (32121, 7)\n",
            "Shape after : (17233, 7)\n"
          ]
        },
        {
          "output_type": "display_data",
          "data": {
            "text/html": [
              "<div>\n",
              "<style scoped>\n",
              "    .dataframe tbody tr th:only-of-type {\n",
              "        vertical-align: middle;\n",
              "    }\n",
              "\n",
              "    .dataframe tbody tr th {\n",
              "        vertical-align: top;\n",
              "    }\n",
              "\n",
              "    .dataframe thead th {\n",
              "        text-align: right;\n",
              "    }\n",
              "</style>\n",
              "<table border=\"1\" class=\"dataframe\">\n",
              "  <thead>\n",
              "    <tr style=\"text-align: right;\">\n",
              "      <th></th>\n",
              "      <th>doi</th>\n",
              "      <th>text_id</th>\n",
              "      <th>text</th>\n",
              "      <th>sdg</th>\n",
              "      <th>labels_negative</th>\n",
              "      <th>labels_positive</th>\n",
              "      <th>agreement</th>\n",
              "    </tr>\n",
              "  </thead>\n",
              "  <tbody>\n",
              "    <tr>\n",
              "      <th>0</th>\n",
              "      <td>10.6027/9789289342698-7-en</td>\n",
              "      <td>00021941702cd84171ff33962197ca1f</td>\n",
              "      <td>From a gender perspective, Paulgaard points ou...</td>\n",
              "      <td>5</td>\n",
              "      <td>1</td>\n",
              "      <td>7</td>\n",
              "      <td>0.750000</td>\n",
              "    </tr>\n",
              "    <tr>\n",
              "      <th>2</th>\n",
              "      <td>10.1787/9789264289062-4-en</td>\n",
              "      <td>0004eb64f96e1620cd852603d9cbe4d4</td>\n",
              "      <td>The average figure also masks large difference...</td>\n",
              "      <td>3</td>\n",
              "      <td>1</td>\n",
              "      <td>6</td>\n",
              "      <td>0.714286</td>\n",
              "    </tr>\n",
              "    <tr>\n",
              "      <th>7</th>\n",
              "      <td>10.1787/9789264117563-8-en</td>\n",
              "      <td>000bfb17e9f3a00d4515ab59c5c487e7</td>\n",
              "      <td>The Israel Oceanographic and Limnological Rese...</td>\n",
              "      <td>6</td>\n",
              "      <td>0</td>\n",
              "      <td>3</td>\n",
              "      <td>1.000000</td>\n",
              "    </tr>\n",
              "    <tr>\n",
              "      <th>8</th>\n",
              "      <td>10.18356/805b1ae4-en</td>\n",
              "      <td>001180f5dd9a821e651ed51e30d0cf8c</td>\n",
              "      <td>Previous chapters have discussed ways to make ...</td>\n",
              "      <td>2</td>\n",
              "      <td>0</td>\n",
              "      <td>3</td>\n",
              "      <td>1.000000</td>\n",
              "    </tr>\n",
              "    <tr>\n",
              "      <th>11</th>\n",
              "      <td>10.1787/9789264310278-en</td>\n",
              "      <td>001f1aee4013cb098da17a979c38bc57</td>\n",
              "      <td>Prescription rates appear to be higher where l...</td>\n",
              "      <td>8</td>\n",
              "      <td>0</td>\n",
              "      <td>3</td>\n",
              "      <td>1.000000</td>\n",
              "    </tr>\n",
              "  </tbody>\n",
              "</table>\n",
              "</div>"
            ],
            "text/plain": [
              "                           doi  ... agreement\n",
              "0   10.6027/9789289342698-7-en  ...  0.750000\n",
              "2   10.1787/9789264289062-4-en  ...  0.714286\n",
              "7   10.1787/9789264117563-8-en  ...  1.000000\n",
              "8         10.18356/805b1ae4-en  ...  1.000000\n",
              "11    10.1787/9789264310278-en  ...  1.000000\n",
              "\n",
              "[5 rows x 7 columns]"
            ]
          },
          "metadata": {}
        }
      ]
    },
    {
      "cell_type": "markdown",
      "metadata": {
        "id": "brie3TRPdPqi"
      },
      "source": [
        "##Count for each SDG category"
      ],
      "id": "brie3TRPdPqi"
    },
    {
      "cell_type": "code",
      "metadata": {
        "colab": {
          "base_uri": "https://localhost:8080/",
          "height": 537
        },
        "id": "3c171754",
        "outputId": "7bb53c76-34fd-4a0a-803c-5cafc8472629"
      },
      "source": [
        "df_lambda = df_osdg.groupby('sdg', as_index = False).agg(count = ('text_id', 'count'))\n",
        "df_lambda['share'] = df_lambda['count'].divide(df_lambda['count'].sum()).multiply(100)\n",
        "print('Shape:', df_lambda.shape)\n",
        "display(df_lambda)"
      ],
      "id": "3c171754",
      "execution_count": 7,
      "outputs": [
        {
          "output_type": "stream",
          "name": "stdout",
          "text": [
            "Shape: (15, 3)\n"
          ]
        },
        {
          "output_type": "display_data",
          "data": {
            "text/html": [
              "<div>\n",
              "<style scoped>\n",
              "    .dataframe tbody tr th:only-of-type {\n",
              "        vertical-align: middle;\n",
              "    }\n",
              "\n",
              "    .dataframe tbody tr th {\n",
              "        vertical-align: top;\n",
              "    }\n",
              "\n",
              "    .dataframe thead th {\n",
              "        text-align: right;\n",
              "    }\n",
              "</style>\n",
              "<table border=\"1\" class=\"dataframe\">\n",
              "  <thead>\n",
              "    <tr style=\"text-align: right;\">\n",
              "      <th></th>\n",
              "      <th>sdg</th>\n",
              "      <th>count</th>\n",
              "      <th>share</th>\n",
              "    </tr>\n",
              "  </thead>\n",
              "  <tbody>\n",
              "    <tr>\n",
              "      <th>0</th>\n",
              "      <td>1</td>\n",
              "      <td>1146</td>\n",
              "      <td>6.650032</td>\n",
              "    </tr>\n",
              "    <tr>\n",
              "      <th>1</th>\n",
              "      <td>2</td>\n",
              "      <td>827</td>\n",
              "      <td>4.798932</td>\n",
              "    </tr>\n",
              "    <tr>\n",
              "      <th>2</th>\n",
              "      <td>3</td>\n",
              "      <td>1854</td>\n",
              "      <td>10.758429</td>\n",
              "    </tr>\n",
              "    <tr>\n",
              "      <th>3</th>\n",
              "      <td>4</td>\n",
              "      <td>2324</td>\n",
              "      <td>13.485754</td>\n",
              "    </tr>\n",
              "    <tr>\n",
              "      <th>4</th>\n",
              "      <td>5</td>\n",
              "      <td>2286</td>\n",
              "      <td>13.265247</td>\n",
              "    </tr>\n",
              "    <tr>\n",
              "      <th>5</th>\n",
              "      <td>6</td>\n",
              "      <td>1343</td>\n",
              "      <td>7.793187</td>\n",
              "    </tr>\n",
              "    <tr>\n",
              "      <th>6</th>\n",
              "      <td>7</td>\n",
              "      <td>1589</td>\n",
              "      <td>9.220681</td>\n",
              "    </tr>\n",
              "    <tr>\n",
              "      <th>7</th>\n",
              "      <td>8</td>\n",
              "      <td>859</td>\n",
              "      <td>4.984623</td>\n",
              "    </tr>\n",
              "    <tr>\n",
              "      <th>8</th>\n",
              "      <td>9</td>\n",
              "      <td>688</td>\n",
              "      <td>3.992340</td>\n",
              "    </tr>\n",
              "    <tr>\n",
              "      <th>9</th>\n",
              "      <td>10</td>\n",
              "      <td>437</td>\n",
              "      <td>2.535832</td>\n",
              "    </tr>\n",
              "    <tr>\n",
              "      <th>10</th>\n",
              "      <td>11</td>\n",
              "      <td>1260</td>\n",
              "      <td>7.311553</td>\n",
              "    </tr>\n",
              "    <tr>\n",
              "      <th>11</th>\n",
              "      <td>12</td>\n",
              "      <td>244</td>\n",
              "      <td>1.415888</td>\n",
              "    </tr>\n",
              "    <tr>\n",
              "      <th>12</th>\n",
              "      <td>13</td>\n",
              "      <td>1129</td>\n",
              "      <td>6.551384</td>\n",
              "    </tr>\n",
              "    <tr>\n",
              "      <th>13</th>\n",
              "      <td>14</td>\n",
              "      <td>705</td>\n",
              "      <td>4.090988</td>\n",
              "    </tr>\n",
              "    <tr>\n",
              "      <th>14</th>\n",
              "      <td>15</td>\n",
              "      <td>542</td>\n",
              "      <td>3.145129</td>\n",
              "    </tr>\n",
              "  </tbody>\n",
              "</table>\n",
              "</div>"
            ],
            "text/plain": [
              "    sdg  count      share\n",
              "0     1   1146   6.650032\n",
              "1     2    827   4.798932\n",
              "2     3   1854  10.758429\n",
              "3     4   2324  13.485754\n",
              "4     5   2286  13.265247\n",
              "5     6   1343   7.793187\n",
              "6     7   1589   9.220681\n",
              "7     8    859   4.984623\n",
              "8     9    688   3.992340\n",
              "9    10    437   2.535832\n",
              "10   11   1260   7.311553\n",
              "11   12    244   1.415888\n",
              "12   13   1129   6.551384\n",
              "13   14    705   4.090988\n",
              "14   15    542   3.145129"
            ]
          },
          "metadata": {}
        }
      ]
    },
    {
      "cell_type": "code",
      "metadata": {
        "colab": {
          "base_uri": "https://localhost:8080/",
          "height": 542
        },
        "id": "5e22711b",
        "outputId": "5d7e7f80-be3f-4b69-d1ed-176e29a721c8"
      },
      "source": [
        "fig = px.bar(\n",
        "    data_frame = df_lambda,\n",
        "    x = 'sdg',\n",
        "    y = 'count',\n",
        "    custom_data = ['share'],\n",
        "    labels = {\n",
        "        'sdg': 'SDG',\n",
        "        'count': 'Count'\n",
        "    },\n",
        "    color_discrete_sequence = ['#1f77b4'],\n",
        "    title = 'Figure 2. Distribution of Texts (Agreement >.6) over SDGs'\n",
        ")\n",
        "\n",
        "fig.update_traces(hovertemplate = 'SDG %{x}<br>Count: %{y}<br>Share: %{customdata:.2f}%')\n",
        "fig.update_layout(xaxis = {'type': 'category'})\n",
        "fig.show()"
      ],
      "id": "5e22711b",
      "execution_count": 8,
      "outputs": [
        {
          "output_type": "display_data",
          "data": {
            "text/html": [
              "<html>\n",
              "<head><meta charset=\"utf-8\" /></head>\n",
              "<body>\n",
              "    <div>\n",
              "            <script src=\"https://cdnjs.cloudflare.com/ajax/libs/mathjax/2.7.5/MathJax.js?config=TeX-AMS-MML_SVG\"></script><script type=\"text/javascript\">if (window.MathJax) {MathJax.Hub.Config({SVG: {font: \"STIX-Web\"}});}</script>\n",
              "                <script type=\"text/javascript\">window.PlotlyConfig = {MathJaxConfig: 'local'};</script>\n",
              "        <script src=\"https://cdn.plot.ly/plotly-latest.min.js\"></script>    \n",
              "            <div id=\"8c6cce56-9578-4871-a262-076d5d035e68\" class=\"plotly-graph-div\" style=\"height:525px; width:100%;\"></div>\n",
              "            <script type=\"text/javascript\">\n",
              "                \n",
              "                    window.PLOTLYENV=window.PLOTLYENV || {};\n",
              "                    \n",
              "                if (document.getElementById(\"8c6cce56-9578-4871-a262-076d5d035e68\")) {\n",
              "                    Plotly.newPlot(\n",
              "                        '8c6cce56-9578-4871-a262-076d5d035e68',\n",
              "                        [{\"alignmentgroup\": \"True\", \"customdata\": [[6.650031915510938], [4.798932281088609], [10.7584285962978], [13.485754076481172], [13.26524690999826], [7.793187489119713], [9.220681251088028], [4.984622526547902], [3.992340277374804], [2.535832414553473], [7.31155341495967], [1.4158881216271109], [6.551383972610688], [4.090988220275054], [3.145128532466779]], \"hoverlabel\": {\"namelength\": 0}, \"hovertemplate\": \"SDG %{x}<br>Count: %{y}<br>Share: %{customdata:.2f}%\", \"legendgroup\": \"\", \"marker\": {\"color\": \"#1f77b4\"}, \"name\": \"\", \"offsetgroup\": \"\", \"orientation\": \"v\", \"showlegend\": false, \"textposition\": \"auto\", \"type\": \"bar\", \"x\": [1, 2, 3, 4, 5, 6, 7, 8, 9, 10, 11, 12, 13, 14, 15], \"xaxis\": \"x\", \"y\": [1146, 827, 1854, 2324, 2286, 1343, 1589, 859, 688, 437, 1260, 244, 1129, 705, 542], \"yaxis\": \"y\"}],\n",
              "                        {\"barmode\": \"relative\", \"legend\": {\"tracegroupgap\": 0}, \"template\": {\"data\": {\"bar\": [{\"error_x\": {\"color\": \"#2a3f5f\"}, \"error_y\": {\"color\": \"#2a3f5f\"}, \"marker\": {\"line\": {\"color\": \"white\", \"width\": 0.5}}, \"type\": \"bar\"}], \"barpolar\": [{\"marker\": {\"line\": {\"color\": \"white\", \"width\": 0.5}}, \"type\": \"barpolar\"}], \"carpet\": [{\"aaxis\": {\"endlinecolor\": \"#2a3f5f\", \"gridcolor\": \"#C8D4E3\", \"linecolor\": \"#C8D4E3\", \"minorgridcolor\": \"#C8D4E3\", \"startlinecolor\": \"#2a3f5f\"}, \"baxis\": {\"endlinecolor\": \"#2a3f5f\", \"gridcolor\": \"#C8D4E3\", \"linecolor\": \"#C8D4E3\", \"minorgridcolor\": \"#C8D4E3\", \"startlinecolor\": \"#2a3f5f\"}, \"type\": \"carpet\"}], \"choropleth\": [{\"colorbar\": {\"outlinewidth\": 0, \"ticks\": \"\"}, \"type\": \"choropleth\"}], \"contour\": [{\"colorbar\": {\"outlinewidth\": 0, \"ticks\": \"\"}, \"colorscale\": [[0.0, \"#0d0887\"], [0.1111111111111111, \"#46039f\"], [0.2222222222222222, \"#7201a8\"], [0.3333333333333333, \"#9c179e\"], [0.4444444444444444, \"#bd3786\"], [0.5555555555555556, \"#d8576b\"], [0.6666666666666666, \"#ed7953\"], [0.7777777777777778, \"#fb9f3a\"], [0.8888888888888888, \"#fdca26\"], [1.0, \"#f0f921\"]], \"type\": \"contour\"}], \"contourcarpet\": [{\"colorbar\": {\"outlinewidth\": 0, \"ticks\": \"\"}, \"type\": \"contourcarpet\"}], \"heatmap\": [{\"colorbar\": {\"outlinewidth\": 0, \"ticks\": \"\"}, \"colorscale\": [[0.0, \"#0d0887\"], [0.1111111111111111, \"#46039f\"], [0.2222222222222222, \"#7201a8\"], [0.3333333333333333, \"#9c179e\"], [0.4444444444444444, \"#bd3786\"], [0.5555555555555556, \"#d8576b\"], [0.6666666666666666, \"#ed7953\"], [0.7777777777777778, \"#fb9f3a\"], [0.8888888888888888, \"#fdca26\"], [1.0, \"#f0f921\"]], \"type\": \"heatmap\"}], \"heatmapgl\": [{\"colorbar\": {\"outlinewidth\": 0, \"ticks\": \"\"}, \"colorscale\": [[0.0, \"#0d0887\"], [0.1111111111111111, \"#46039f\"], [0.2222222222222222, \"#7201a8\"], [0.3333333333333333, \"#9c179e\"], [0.4444444444444444, \"#bd3786\"], [0.5555555555555556, \"#d8576b\"], [0.6666666666666666, \"#ed7953\"], [0.7777777777777778, \"#fb9f3a\"], [0.8888888888888888, \"#fdca26\"], [1.0, \"#f0f921\"]], \"type\": \"heatmapgl\"}], \"histogram\": [{\"marker\": {\"colorbar\": {\"outlinewidth\": 0, \"ticks\": \"\"}}, \"type\": \"histogram\"}], \"histogram2d\": [{\"colorbar\": {\"outlinewidth\": 0, \"ticks\": \"\"}, \"colorscale\": [[0.0, \"#0d0887\"], [0.1111111111111111, \"#46039f\"], [0.2222222222222222, \"#7201a8\"], [0.3333333333333333, \"#9c179e\"], [0.4444444444444444, \"#bd3786\"], [0.5555555555555556, \"#d8576b\"], [0.6666666666666666, \"#ed7953\"], [0.7777777777777778, \"#fb9f3a\"], [0.8888888888888888, \"#fdca26\"], [1.0, \"#f0f921\"]], \"type\": \"histogram2d\"}], \"histogram2dcontour\": [{\"colorbar\": {\"outlinewidth\": 0, \"ticks\": \"\"}, \"colorscale\": [[0.0, \"#0d0887\"], [0.1111111111111111, \"#46039f\"], [0.2222222222222222, \"#7201a8\"], [0.3333333333333333, \"#9c179e\"], [0.4444444444444444, \"#bd3786\"], [0.5555555555555556, \"#d8576b\"], [0.6666666666666666, \"#ed7953\"], [0.7777777777777778, \"#fb9f3a\"], [0.8888888888888888, \"#fdca26\"], [1.0, \"#f0f921\"]], \"type\": \"histogram2dcontour\"}], \"mesh3d\": [{\"colorbar\": {\"outlinewidth\": 0, \"ticks\": \"\"}, \"type\": \"mesh3d\"}], \"parcoords\": [{\"line\": {\"colorbar\": {\"outlinewidth\": 0, \"ticks\": \"\"}}, \"type\": \"parcoords\"}], \"pie\": [{\"automargin\": true, \"type\": \"pie\"}], \"scatter\": [{\"marker\": {\"colorbar\": {\"outlinewidth\": 0, \"ticks\": \"\"}}, \"type\": \"scatter\"}], \"scatter3d\": [{\"line\": {\"colorbar\": {\"outlinewidth\": 0, \"ticks\": \"\"}}, \"marker\": {\"colorbar\": {\"outlinewidth\": 0, \"ticks\": \"\"}}, \"type\": \"scatter3d\"}], \"scattercarpet\": [{\"marker\": {\"colorbar\": {\"outlinewidth\": 0, \"ticks\": \"\"}}, \"type\": \"scattercarpet\"}], \"scattergeo\": [{\"marker\": {\"colorbar\": {\"outlinewidth\": 0, \"ticks\": \"\"}}, \"type\": \"scattergeo\"}], \"scattergl\": [{\"marker\": {\"colorbar\": {\"outlinewidth\": 0, \"ticks\": \"\"}}, \"type\": \"scattergl\"}], \"scattermapbox\": [{\"marker\": {\"colorbar\": {\"outlinewidth\": 0, \"ticks\": \"\"}}, \"type\": \"scattermapbox\"}], \"scatterpolar\": [{\"marker\": {\"colorbar\": {\"outlinewidth\": 0, \"ticks\": \"\"}}, \"type\": \"scatterpolar\"}], \"scatterpolargl\": [{\"marker\": {\"colorbar\": {\"outlinewidth\": 0, \"ticks\": \"\"}}, \"type\": \"scatterpolargl\"}], \"scatterternary\": [{\"marker\": {\"colorbar\": {\"outlinewidth\": 0, \"ticks\": \"\"}}, \"type\": \"scatterternary\"}], \"surface\": [{\"colorbar\": {\"outlinewidth\": 0, \"ticks\": \"\"}, \"colorscale\": [[0.0, \"#0d0887\"], [0.1111111111111111, \"#46039f\"], [0.2222222222222222, \"#7201a8\"], [0.3333333333333333, \"#9c179e\"], [0.4444444444444444, \"#bd3786\"], [0.5555555555555556, \"#d8576b\"], [0.6666666666666666, \"#ed7953\"], [0.7777777777777778, \"#fb9f3a\"], [0.8888888888888888, \"#fdca26\"], [1.0, \"#f0f921\"]], \"type\": \"surface\"}], \"table\": [{\"cells\": {\"fill\": {\"color\": \"#EBF0F8\"}, \"line\": {\"color\": \"white\"}}, \"header\": {\"fill\": {\"color\": \"#C8D4E3\"}, \"line\": {\"color\": \"white\"}}, \"type\": \"table\"}]}, \"layout\": {\"annotationdefaults\": {\"arrowcolor\": \"#2a3f5f\", \"arrowhead\": 0, \"arrowwidth\": 1}, \"coloraxis\": {\"colorbar\": {\"outlinewidth\": 0, \"ticks\": \"\"}}, \"colorscale\": {\"diverging\": [[0, \"#8e0152\"], [0.1, \"#c51b7d\"], [0.2, \"#de77ae\"], [0.3, \"#f1b6da\"], [0.4, \"#fde0ef\"], [0.5, \"#f7f7f7\"], [0.6, \"#e6f5d0\"], [0.7, \"#b8e186\"], [0.8, \"#7fbc41\"], [0.9, \"#4d9221\"], [1, \"#276419\"]], \"sequential\": [[0.0, \"#0d0887\"], [0.1111111111111111, \"#46039f\"], [0.2222222222222222, \"#7201a8\"], [0.3333333333333333, \"#9c179e\"], [0.4444444444444444, \"#bd3786\"], [0.5555555555555556, \"#d8576b\"], [0.6666666666666666, \"#ed7953\"], [0.7777777777777778, \"#fb9f3a\"], [0.8888888888888888, \"#fdca26\"], [1.0, \"#f0f921\"]], \"sequentialminus\": [[0.0, \"#0d0887\"], [0.1111111111111111, \"#46039f\"], [0.2222222222222222, \"#7201a8\"], [0.3333333333333333, \"#9c179e\"], [0.4444444444444444, \"#bd3786\"], [0.5555555555555556, \"#d8576b\"], [0.6666666666666666, \"#ed7953\"], [0.7777777777777778, \"#fb9f3a\"], [0.8888888888888888, \"#fdca26\"], [1.0, \"#f0f921\"]]}, \"colorway\": [\"#636efa\", \"#EF553B\", \"#00cc96\", \"#ab63fa\", \"#FFA15A\", \"#19d3f3\", \"#FF6692\", \"#B6E880\", \"#FF97FF\", \"#FECB52\"], \"font\": {\"color\": \"#2a3f5f\"}, \"geo\": {\"bgcolor\": \"white\", \"lakecolor\": \"white\", \"landcolor\": \"white\", \"showlakes\": true, \"showland\": true, \"subunitcolor\": \"#C8D4E3\"}, \"hoverlabel\": {\"align\": \"left\"}, \"hovermode\": \"closest\", \"mapbox\": {\"style\": \"light\"}, \"paper_bgcolor\": \"white\", \"plot_bgcolor\": \"white\", \"polar\": {\"angularaxis\": {\"gridcolor\": \"#EBF0F8\", \"linecolor\": \"#EBF0F8\", \"ticks\": \"\"}, \"bgcolor\": \"white\", \"radialaxis\": {\"gridcolor\": \"#EBF0F8\", \"linecolor\": \"#EBF0F8\", \"ticks\": \"\"}}, \"scene\": {\"xaxis\": {\"backgroundcolor\": \"white\", \"gridcolor\": \"#DFE8F3\", \"gridwidth\": 2, \"linecolor\": \"#EBF0F8\", \"showbackground\": true, \"ticks\": \"\", \"zerolinecolor\": \"#EBF0F8\"}, \"yaxis\": {\"backgroundcolor\": \"white\", \"gridcolor\": \"#DFE8F3\", \"gridwidth\": 2, \"linecolor\": \"#EBF0F8\", \"showbackground\": true, \"ticks\": \"\", \"zerolinecolor\": \"#EBF0F8\"}, \"zaxis\": {\"backgroundcolor\": \"white\", \"gridcolor\": \"#DFE8F3\", \"gridwidth\": 2, \"linecolor\": \"#EBF0F8\", \"showbackground\": true, \"ticks\": \"\", \"zerolinecolor\": \"#EBF0F8\"}}, \"shapedefaults\": {\"line\": {\"color\": \"#2a3f5f\"}}, \"ternary\": {\"aaxis\": {\"gridcolor\": \"#DFE8F3\", \"linecolor\": \"#A2B1C6\", \"ticks\": \"\"}, \"baxis\": {\"gridcolor\": \"#DFE8F3\", \"linecolor\": \"#A2B1C6\", \"ticks\": \"\"}, \"bgcolor\": \"white\", \"caxis\": {\"gridcolor\": \"#DFE8F3\", \"linecolor\": \"#A2B1C6\", \"ticks\": \"\"}}, \"title\": {\"x\": 0.05}, \"xaxis\": {\"automargin\": true, \"gridcolor\": \"#EBF0F8\", \"linecolor\": \"#EBF0F8\", \"ticks\": \"\", \"title\": {\"standoff\": 15}, \"zerolinecolor\": \"#EBF0F8\", \"zerolinewidth\": 2}, \"yaxis\": {\"automargin\": true, \"gridcolor\": \"#EBF0F8\", \"linecolor\": \"#EBF0F8\", \"ticks\": \"\", \"title\": {\"standoff\": 15}, \"zerolinecolor\": \"#EBF0F8\", \"zerolinewidth\": 2}}}, \"title\": {\"text\": \"Figure 2. Distribution of Texts (Agreement >.6) over SDGs\"}, \"xaxis\": {\"anchor\": \"y\", \"domain\": [0.0, 1.0], \"title\": {\"text\": \"SDG\"}, \"type\": \"category\"}, \"yaxis\": {\"anchor\": \"x\", \"domain\": [0.0, 1.0], \"title\": {\"text\": \"Count\"}}},\n",
              "                        {\"responsive\": true}\n",
              "                    ).then(function(){\n",
              "                            \n",
              "var gd = document.getElementById('8c6cce56-9578-4871-a262-076d5d035e68');\n",
              "var x = new MutationObserver(function (mutations, observer) {{\n",
              "        var display = window.getComputedStyle(gd).display;\n",
              "        if (!display || display === 'none') {{\n",
              "            console.log([gd, 'removed!']);\n",
              "            Plotly.purge(gd);\n",
              "            observer.disconnect();\n",
              "        }}\n",
              "}});\n",
              "\n",
              "// Listen for the removal of the full notebook cells\n",
              "var notebookContainer = gd.closest('#notebook-container');\n",
              "if (notebookContainer) {{\n",
              "    x.observe(notebookContainer, {childList: true});\n",
              "}}\n",
              "\n",
              "// Listen for the clearing of the current output cell\n",
              "var outputEl = gd.closest('.output');\n",
              "if (outputEl) {{\n",
              "    x.observe(outputEl, {childList: true});\n",
              "}}\n",
              "\n",
              "                        })\n",
              "                };\n",
              "                \n",
              "            </script>\n",
              "        </div>\n",
              "</body>\n",
              "</html>"
            ]
          },
          "metadata": {}
        }
      ]
    },
    {
      "cell_type": "markdown",
      "metadata": {
        "id": "ab295bd0"
      },
      "source": [
        "## III.SVM Classifier for Sustainable Development Goals\n",
        "\n",
        "_In this section, we extend the model to a multiclass case by training a Support Vector Machines capable of classifying text input in one of 15 different SDGs._\n",
        "\n",
        "**Highlights:**\n",
        "\n",
        "- More sophisticated preprocessing using `spaCy`.\n",
        "- Instances are represented as a real-valued vectors from a `TfIdf` matrix.\n",
        "- A SVM classifier is trained on 15 SDGs.\n",
        "- Test accuracy and (weighted) F1 scores both stand at `.86`.\n"
      ],
      "id": "ab295bd0"
    },
    {
      "cell_type": "markdown",
      "metadata": {
        "id": "HdshUtougZFv"
      },
      "source": [
        "##Preprocessing\n",
        "\n",
        "###This involves tokenization of text,POS-tagging,lemmation..Common stop words are removed from text for better processing"
      ],
      "id": "HdshUtougZFv"
    },
    {
      "cell_type": "code",
      "metadata": {
        "id": "086f46d1"
      },
      "source": [
        "def preprocess_spacy(alpha: List[str]) -> List[str]:\n",
        "    \"\"\"\n",
        "    Preprocess text input using spaCy.\n",
        "    \n",
        "    Parameters\n",
        "    ----------\n",
        "    alpha: List[str]\n",
        "        a text corpus.\n",
        "    \n",
        "    Returns\n",
        "    -------\n",
        "    doc: List[str]\n",
        "        a cleaned version of the original text corpus.\n",
        "    \"\"\"\n",
        "    docs = list()\n",
        "    \n",
        "    for doc in tqdm(nlp.pipe(alpha, batch_size = 128)):\n",
        "        tokens = list()\n",
        "        for token in doc:\n",
        "            if token.pos_ in ['NOUN', 'VERB', 'ADJ']:\n",
        "                tokens.append(token.lemma_)\n",
        "        docs.append(' '.join(tokens))\n",
        "        \n",
        "    return docs"
      ],
      "id": "086f46d1",
      "execution_count": 9,
      "outputs": []
    },
    {
      "cell_type": "code",
      "metadata": {
        "colab": {
          "base_uri": "https://localhost:8080/",
          "height": 570
        },
        "id": "9f83bfc9",
        "scrolled": false,
        "outputId": "c6363f2d-7431-42fe-dc97-3b25cf8ae98a"
      },
      "source": [
        "df_osdg['docs'] = preprocess_spacy(df_osdg['text'].values)\n",
        "print('Shape:', df_osdg.shape)\n",
        "display(df_osdg.head())"
      ],
      "id": "9f83bfc9",
      "execution_count": 10,
      "outputs": [
        {
          "output_type": "stream",
          "name": "stderr",
          "text": [
            "17233it [01:05, 262.72it/s]"
          ]
        },
        {
          "output_type": "stream",
          "name": "stdout",
          "text": [
            "Shape: (17233, 8)\n"
          ]
        },
        {
          "output_type": "stream",
          "name": "stderr",
          "text": [
            "\n"
          ]
        },
        {
          "output_type": "display_data",
          "data": {
            "text/html": [
              "<div>\n",
              "<style scoped>\n",
              "    .dataframe tbody tr th:only-of-type {\n",
              "        vertical-align: middle;\n",
              "    }\n",
              "\n",
              "    .dataframe tbody tr th {\n",
              "        vertical-align: top;\n",
              "    }\n",
              "\n",
              "    .dataframe thead th {\n",
              "        text-align: right;\n",
              "    }\n",
              "</style>\n",
              "<table border=\"1\" class=\"dataframe\">\n",
              "  <thead>\n",
              "    <tr style=\"text-align: right;\">\n",
              "      <th></th>\n",
              "      <th>doi</th>\n",
              "      <th>text_id</th>\n",
              "      <th>text</th>\n",
              "      <th>sdg</th>\n",
              "      <th>labels_negative</th>\n",
              "      <th>labels_positive</th>\n",
              "      <th>agreement</th>\n",
              "      <th>docs</th>\n",
              "    </tr>\n",
              "  </thead>\n",
              "  <tbody>\n",
              "    <tr>\n",
              "      <th>0</th>\n",
              "      <td>10.6027/9789289342698-7-en</td>\n",
              "      <td>00021941702cd84171ff33962197ca1f</td>\n",
              "      <td>From a gender perspective, Paulgaard points ou...</td>\n",
              "      <td>5</td>\n",
              "      <td>1</td>\n",
              "      <td>7</td>\n",
              "      <td>0.750000</td>\n",
              "      <td>gender perspective point labour market fishing...</td>\n",
              "    </tr>\n",
              "    <tr>\n",
              "      <th>2</th>\n",
              "      <td>10.1787/9789264289062-4-en</td>\n",
              "      <td>0004eb64f96e1620cd852603d9cbe4d4</td>\n",
              "      <td>The average figure also masks large difference...</td>\n",
              "      <td>3</td>\n",
              "      <td>1</td>\n",
              "      <td>6</td>\n",
              "      <td>0.714286</td>\n",
              "      <td>average figure mask large difference region nu...</td>\n",
              "    </tr>\n",
              "    <tr>\n",
              "      <th>7</th>\n",
              "      <td>10.1787/9789264117563-8-en</td>\n",
              "      <td>000bfb17e9f3a00d4515ab59c5c487e7</td>\n",
              "      <td>The Israel Oceanographic and Limnological Rese...</td>\n",
              "      <td>6</td>\n",
              "      <td>0</td>\n",
              "      <td>3</td>\n",
              "      <td>1.000000</td>\n",
              "      <td>station monitor quantity quality water coastli...</td>\n",
              "    </tr>\n",
              "    <tr>\n",
              "      <th>8</th>\n",
              "      <td>10.18356/805b1ae4-en</td>\n",
              "      <td>001180f5dd9a821e651ed51e30d0cf8c</td>\n",
              "      <td>Previous chapters have discussed ways to make ...</td>\n",
              "      <td>2</td>\n",
              "      <td>0</td>\n",
              "      <td>3</td>\n",
              "      <td>1.000000</td>\n",
              "      <td>previous chapter discuss way make food system ...</td>\n",
              "    </tr>\n",
              "    <tr>\n",
              "      <th>11</th>\n",
              "      <td>10.1787/9789264310278-en</td>\n",
              "      <td>001f1aee4013cb098da17a979c38bc57</td>\n",
              "      <td>Prescription rates appear to be higher where l...</td>\n",
              "      <td>8</td>\n",
              "      <td>0</td>\n",
              "      <td>3</td>\n",
              "      <td>1.000000</td>\n",
              "      <td>prescription rate appear high labour force par...</td>\n",
              "    </tr>\n",
              "  </tbody>\n",
              "</table>\n",
              "</div>"
            ],
            "text/plain": [
              "                           doi  ...                                               docs\n",
              "0   10.6027/9789289342698-7-en  ...  gender perspective point labour market fishing...\n",
              "2   10.1787/9789264289062-4-en  ...  average figure mask large difference region nu...\n",
              "7   10.1787/9789264117563-8-en  ...  station monitor quantity quality water coastli...\n",
              "8         10.18356/805b1ae4-en  ...  previous chapter discuss way make food system ...\n",
              "11    10.1787/9789264310278-en  ...  prescription rate appear high labour force par...\n",
              "\n",
              "[5 rows x 8 columns]"
            ]
          },
          "metadata": {}
        }
      ]
    },
    {
      "cell_type": "markdown",
      "metadata": {
        "id": "voPKk2E_g5go"
      },
      "source": [
        "##Spliting into Train and Test set"
      ],
      "id": "voPKk2E_g5go"
    },
    {
      "cell_type": "code",
      "metadata": {
        "colab": {
          "base_uri": "https://localhost:8080/"
        },
        "id": "515f3489",
        "outputId": "4daf2dcb-97df-40ca-c014-da8d0844ef99"
      },
      "source": [
        "X_train, X_test, y_train, y_test = train_test_split(\n",
        "    df_osdg['docs'].values, \n",
        "    df_osdg['sdg'].values, \n",
        "    test_size = .3,\n",
        "    random_state = 42\n",
        ")\n",
        "\n",
        "print('Shape train:', X_train.shape)\n",
        "print('Shape test:', X_test.shape)"
      ],
      "id": "515f3489",
      "execution_count": 11,
      "outputs": [
        {
          "output_type": "stream",
          "name": "stdout",
          "text": [
            "Shape train: (12063,)\n",
            "Shape test: (5170,)\n"
          ]
        }
      ]
    },
    {
      "cell_type": "markdown",
      "metadata": {
        "id": "G8m3jwp8VBx4"
      },
      "source": [
        "#Grid search optimization"
      ],
      "id": "G8m3jwp8VBx4"
    },
    {
      "cell_type": "code",
      "metadata": {
        "id": "u-tcCE4OVBEJ"
      },
      "source": [
        "from sklearn import svm\n",
        "from sklearn.model_selection import GridSearchCV\n",
        "\n",
        "clf=GridSearchCV(svm.SVC(gamma='auto'),{\n",
        "    'C':[1,3,10,20],'kernel':['rbf','linear']\n",
        "    },cv=5, return_train_score=False)\n",
        "\n",
        "clf.fit(X_Train,y_train)\n",
        "df=pd.DataFrame(clf.cv_results_)\n",
        "df"
      ],
      "id": "u-tcCE4OVBEJ",
      "execution_count": null,
      "outputs": []
    },
    {
      "cell_type": "markdown",
      "metadata": {
        "id": "aW2aGeDghaaB"
      },
      "source": [
        "##Performing SVM Classification and Obtainig accuracy\n",
        "\n",
        "### Model performs with aproximatly 87 percent accuracy."
      ],
      "id": "aW2aGeDghaaB"
    },
    {
      "cell_type": "code",
      "metadata": {
        "colab": {
          "base_uri": "https://localhost:8080/"
        },
        "id": "FSsk7LXtIHN4",
        "outputId": "515575d7-abfd-4c83-b401-6947ee94cda3"
      },
      "source": [
        "\n",
        "text_clf_svm = Pipeline([('tfidf', TfidfVectorizer()),\n",
        "                      ('clf-svm', svm.SVC(C=1.0,kernel='linear',degree=3,gamma='auto',probability=True)),\n",
        " ]) \n",
        "text_clf_svm.fit(X_train, y_train)\n",
        "predicted_svm = text_clf_svm.predict(X_test)\n",
        "np.mean(predicted_svm == y_test)"
      ],
      "id": "FSsk7LXtIHN4",
      "execution_count": 13,
      "outputs": [
        {
          "output_type": "execute_result",
          "data": {
            "text/plain": [
              "0.8690522243713733"
            ]
          },
          "metadata": {},
          "execution_count": 13
        }
      ]
    },
    {
      "cell_type": "markdown",
      "metadata": {
        "id": "L37JkoOVsemg"
      },
      "source": [
        "##Confusion Matrix"
      ],
      "id": "L37JkoOVsemg"
    },
    {
      "cell_type": "code",
      "metadata": {
        "id": "c717752f",
        "colab": {
          "base_uri": "https://localhost:8080/",
          "height": 646
        },
        "outputId": "76de190b-8270-4c18-df7e-4f79c9809be4"
      },
      "source": [
        "from sklearn.metrics import  confusion_matrix\n",
        "y_hat = text_clf_svm.predict(X_test)\n",
        "plot_confusion_matrix(y_test, y_hat)"
      ],
      "id": "c717752f",
      "execution_count": 20,
      "outputs": [
        {
          "output_type": "display_data",
          "data": {
            "image/png": "[encoded data removed]",
            "text/plain": [
              "<Figure size 1152x648 with 1 Axes>"
            ]
          },
          "metadata": {}
        }
      ]
    },
    {
      "cell_type": "markdown",
      "metadata": {
        "id": "Bq6Ep6PJs780"
      },
      "source": [
        "##Precision and Recall"
      ],
      "id": "Bq6Ep6PJs780"
    },
    {
      "cell_type": "code",
      "metadata": {
        "colab": {
          "base_uri": "https://localhost:8080/"
        },
        "id": "pxTbH5mEp2lI",
        "outputId": "02687026-c61e-4ff6-fc90-8ce04168fede"
      },
      "source": [
        "from sklearn.metrics import  recall_score,precision_score\n",
        "\n",
        "\n",
        "recall=recall_score(y_test,y_hat,average='micro')\n",
        "precision=precision_score(y_test,y_hat,average='micro')\n",
        "print(\"Recall score :\",recall,\"\\nPrecision score\",precision)"
      ],
      "id": "pxTbH5mEp2lI",
      "execution_count": 22,
      "outputs": [
        {
          "output_type": "stream",
          "name": "stdout",
          "text": [
            "Recall score : 0.8690522243713733 \n",
            "Precision score 0.8690522243713733\n"
          ]
        }
      ]
    },
    {
      "cell_type": "markdown",
      "metadata": {
        "id": "DzJ2oo8hsbKe"
      },
      "source": [
        "##Classification Summary"
      ],
      "id": "DzJ2oo8hsbKe"
    },
    {
      "cell_type": "code",
      "metadata": {
        "id": "c0828ec6",
        "colab": {
          "base_uri": "https://localhost:8080/"
        },
        "outputId": "0a6c49e8-6f3d-4329-d735-a36b77589a28"
      },
      "source": [
        "print(classification_report(y_test, y_hat, zero_division = 0))"
      ],
      "id": "c0828ec6",
      "execution_count": 21,
      "outputs": [
        {
          "output_type": "stream",
          "name": "stdout",
          "text": [
            "              precision    recall  f1-score   support\n",
            "\n",
            "           1       0.86      0.85      0.85       337\n",
            "           2       0.86      0.87      0.86       256\n",
            "           3       0.90      0.92      0.91       572\n",
            "           4       0.92      0.94      0.93       701\n",
            "           5       0.92      0.94      0.93       697\n",
            "           6       0.90      0.90      0.90       388\n",
            "           7       0.90      0.90      0.90       476\n",
            "           8       0.62      0.71      0.66       245\n",
            "           9       0.74      0.72      0.73       211\n",
            "          10       0.74      0.54      0.62       126\n",
            "          11       0.82      0.83      0.83       379\n",
            "          12       0.82      0.66      0.73        77\n",
            "          13       0.85      0.89      0.87       310\n",
            "          14       0.96      0.88      0.91       220\n",
            "          15       0.88      0.76      0.82       175\n",
            "\n",
            "    accuracy                           0.87      5170\n",
            "   macro avg       0.85      0.82      0.83      5170\n",
            "weighted avg       0.87      0.87      0.87      5170\n",
            "\n"
          ]
        }
      ]
    },
    {
      "cell_type": "code",
      "metadata": {
        "id": "cxe1wJR_5tPS"
      },
      "source": [
        "import pickle\n",
        "\n",
        "path='/content/drive/MyDrive/Pickle Folder/'\n",
        "pickle_out=open(path+\"Clf.pickle\",\"wb\")\n",
        "pickle.dump(text_clf_svm,pickle_out)\n",
        "pickle_out.close()"
      ],
      "id": "cxe1wJR_5tPS",
      "execution_count": null,
      "outputs": []
    }
  ]
}